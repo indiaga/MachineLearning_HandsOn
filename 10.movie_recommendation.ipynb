{
 "nbformat": 4,
 "nbformat_minor": 2,
 "metadata": {
  "language_info": {
   "name": "python",
   "codemirror_mode": {
    "name": "ipython",
    "version": 3
   },
   "version": "3.7.7-final"
  },
  "orig_nbformat": 2,
  "file_extension": ".py",
  "mimetype": "text/x-python",
  "name": "python",
  "npconvert_exporter": "python",
  "pygments_lexer": "ipython3",
  "version": 3,
  "kernelspec": {
   "name": "python37764bit4ae60c3c220843d5b933d6b3df42a3c6",
   "display_name": "Python 3.7.7 64-bit"
  }
 },
 "cells": [
  {
   "cell_type": "code",
   "execution_count": 1,
   "metadata": {},
   "outputs": [],
   "source": [
    "import numpy as np \n",
    "import pandas as pd \n",
    "import json"
   ]
  },
  {
   "cell_type": "code",
   "execution_count": 2,
   "metadata": {},
   "outputs": [
    {
     "output_type": "execute_result",
     "data": {
      "text/plain": "   adult                              belongs_to_collection    budget  \\\n0  False  {'id': 10194, 'name': 'Toy Story Collection', ...  30000000   \n1  False                                                NaN  65000000   \n2  False  {'id': 119050, 'name': 'Grumpy Old Men Collect...         0   \n3  False                                                NaN  16000000   \n4  False  {'id': 96871, 'name': 'Father of the Bride Col...         0   \n\n                                              genres  \\\n0  [{'id': 16, 'name': 'Animation'}, {'id': 35, '...   \n1  [{'id': 12, 'name': 'Adventure'}, {'id': 14, '...   \n2  [{'id': 10749, 'name': 'Romance'}, {'id': 35, ...   \n3  [{'id': 35, 'name': 'Comedy'}, {'id': 18, 'nam...   \n4                     [{'id': 35, 'name': 'Comedy'}]   \n\n                               homepage     id    imdb_id original_language  \\\n0  http://toystory.disney.com/toy-story    862  tt0114709                en   \n1                                   NaN   8844  tt0113497                en   \n2                                   NaN  15602  tt0113228                en   \n3                                   NaN  31357  tt0114885                en   \n4                                   NaN  11862  tt0113041                en   \n\n                original_title  \\\n0                    Toy Story   \n1                      Jumanji   \n2             Grumpier Old Men   \n3            Waiting to Exhale   \n4  Father of the Bride Part II   \n\n                                            overview  ... release_date  \\\n0  Led by Woody, Andy's toys live happily in his ...  ...   1995-10-30   \n1  When siblings Judy and Peter discover an encha...  ...   1995-12-15   \n2  A family wedding reignites the ancient feud be...  ...   1995-12-22   \n3  Cheated on, mistreated and stepped on, the wom...  ...   1995-12-22   \n4  Just when George Banks has recovered from his ...  ...   1995-02-10   \n\n       revenue runtime                                   spoken_languages  \\\n0  373554033.0    81.0           [{'iso_639_1': 'en', 'name': 'English'}]   \n1  262797249.0   104.0  [{'iso_639_1': 'en', 'name': 'English'}, {'iso...   \n2          0.0   101.0           [{'iso_639_1': 'en', 'name': 'English'}]   \n3   81452156.0   127.0           [{'iso_639_1': 'en', 'name': 'English'}]   \n4   76578911.0   106.0           [{'iso_639_1': 'en', 'name': 'English'}]   \n\n     status                                            tagline  \\\n0  Released                                                NaN   \n1  Released          Roll the dice and unleash the excitement!   \n2  Released  Still Yelling. Still Fighting. Still Ready for...   \n3  Released  Friends are the people who let you be yourself...   \n4  Released  Just When His World Is Back To Normal... He's ...   \n\n                         title  video vote_average vote_count  \n0                    Toy Story  False          7.7     5415.0  \n1                      Jumanji  False          6.9     2413.0  \n2             Grumpier Old Men  False          6.5       92.0  \n3            Waiting to Exhale  False          6.1       34.0  \n4  Father of the Bride Part II  False          5.7      173.0  \n\n[5 rows x 24 columns]",
      "text/html": "<div>\n<style scoped>\n    .dataframe tbody tr th:only-of-type {\n        vertical-align: middle;\n    }\n\n    .dataframe tbody tr th {\n        vertical-align: top;\n    }\n\n    .dataframe thead th {\n        text-align: right;\n    }\n</style>\n<table border=\"1\" class=\"dataframe\">\n  <thead>\n    <tr style=\"text-align: right;\">\n      <th></th>\n      <th>adult</th>\n      <th>belongs_to_collection</th>\n      <th>budget</th>\n      <th>genres</th>\n      <th>homepage</th>\n      <th>id</th>\n      <th>imdb_id</th>\n      <th>original_language</th>\n      <th>original_title</th>\n      <th>overview</th>\n      <th>...</th>\n      <th>release_date</th>\n      <th>revenue</th>\n      <th>runtime</th>\n      <th>spoken_languages</th>\n      <th>status</th>\n      <th>tagline</th>\n      <th>title</th>\n      <th>video</th>\n      <th>vote_average</th>\n      <th>vote_count</th>\n    </tr>\n  </thead>\n  <tbody>\n    <tr>\n      <th>0</th>\n      <td>False</td>\n      <td>{'id': 10194, 'name': 'Toy Story Collection', ...</td>\n      <td>30000000</td>\n      <td>[{'id': 16, 'name': 'Animation'}, {'id': 35, '...</td>\n      <td>http://toystory.disney.com/toy-story</td>\n      <td>862</td>\n      <td>tt0114709</td>\n      <td>en</td>\n      <td>Toy Story</td>\n      <td>Led by Woody, Andy's toys live happily in his ...</td>\n      <td>...</td>\n      <td>1995-10-30</td>\n      <td>373554033.0</td>\n      <td>81.0</td>\n      <td>[{'iso_639_1': 'en', 'name': 'English'}]</td>\n      <td>Released</td>\n      <td>NaN</td>\n      <td>Toy Story</td>\n      <td>False</td>\n      <td>7.7</td>\n      <td>5415.0</td>\n    </tr>\n    <tr>\n      <th>1</th>\n      <td>False</td>\n      <td>NaN</td>\n      <td>65000000</td>\n      <td>[{'id': 12, 'name': 'Adventure'}, {'id': 14, '...</td>\n      <td>NaN</td>\n      <td>8844</td>\n      <td>tt0113497</td>\n      <td>en</td>\n      <td>Jumanji</td>\n      <td>When siblings Judy and Peter discover an encha...</td>\n      <td>...</td>\n      <td>1995-12-15</td>\n      <td>262797249.0</td>\n      <td>104.0</td>\n      <td>[{'iso_639_1': 'en', 'name': 'English'}, {'iso...</td>\n      <td>Released</td>\n      <td>Roll the dice and unleash the excitement!</td>\n      <td>Jumanji</td>\n      <td>False</td>\n      <td>6.9</td>\n      <td>2413.0</td>\n    </tr>\n    <tr>\n      <th>2</th>\n      <td>False</td>\n      <td>{'id': 119050, 'name': 'Grumpy Old Men Collect...</td>\n      <td>0</td>\n      <td>[{'id': 10749, 'name': 'Romance'}, {'id': 35, ...</td>\n      <td>NaN</td>\n      <td>15602</td>\n      <td>tt0113228</td>\n      <td>en</td>\n      <td>Grumpier Old Men</td>\n      <td>A family wedding reignites the ancient feud be...</td>\n      <td>...</td>\n      <td>1995-12-22</td>\n      <td>0.0</td>\n      <td>101.0</td>\n      <td>[{'iso_639_1': 'en', 'name': 'English'}]</td>\n      <td>Released</td>\n      <td>Still Yelling. Still Fighting. Still Ready for...</td>\n      <td>Grumpier Old Men</td>\n      <td>False</td>\n      <td>6.5</td>\n      <td>92.0</td>\n    </tr>\n    <tr>\n      <th>3</th>\n      <td>False</td>\n      <td>NaN</td>\n      <td>16000000</td>\n      <td>[{'id': 35, 'name': 'Comedy'}, {'id': 18, 'nam...</td>\n      <td>NaN</td>\n      <td>31357</td>\n      <td>tt0114885</td>\n      <td>en</td>\n      <td>Waiting to Exhale</td>\n      <td>Cheated on, mistreated and stepped on, the wom...</td>\n      <td>...</td>\n      <td>1995-12-22</td>\n      <td>81452156.0</td>\n      <td>127.0</td>\n      <td>[{'iso_639_1': 'en', 'name': 'English'}]</td>\n      <td>Released</td>\n      <td>Friends are the people who let you be yourself...</td>\n      <td>Waiting to Exhale</td>\n      <td>False</td>\n      <td>6.1</td>\n      <td>34.0</td>\n    </tr>\n    <tr>\n      <th>4</th>\n      <td>False</td>\n      <td>{'id': 96871, 'name': 'Father of the Bride Col...</td>\n      <td>0</td>\n      <td>[{'id': 35, 'name': 'Comedy'}]</td>\n      <td>NaN</td>\n      <td>11862</td>\n      <td>tt0113041</td>\n      <td>en</td>\n      <td>Father of the Bride Part II</td>\n      <td>Just when George Banks has recovered from his ...</td>\n      <td>...</td>\n      <td>1995-02-10</td>\n      <td>76578911.0</td>\n      <td>106.0</td>\n      <td>[{'iso_639_1': 'en', 'name': 'English'}]</td>\n      <td>Released</td>\n      <td>Just When His World Is Back To Normal... He's ...</td>\n      <td>Father of the Bride Part II</td>\n      <td>False</td>\n      <td>5.7</td>\n      <td>173.0</td>\n    </tr>\n  </tbody>\n</table>\n<p>5 rows × 24 columns</p>\n</div>"
     },
     "metadata": {},
     "execution_count": 2
    }
   ],
   "source": [
    "meta = pd.read_csv('the-movies-dataset/movies_metadata.csv')\n",
    "meta.head()"
   ]
  },
  {
   "cell_type": "code",
   "execution_count": 3,
   "metadata": {},
   "outputs": [
    {
     "output_type": "execute_result",
     "data": {
      "text/plain": "  movieId               original_title original_language  \\\n0     862                    Toy Story                en   \n1    8844                      Jumanji                en   \n2   15602             Grumpier Old Men                en   \n3   31357            Waiting to Exhale                en   \n4   11862  Father of the Bride Part II                en   \n\n                                              genres  \n0  [{'id': 16, 'name': 'Animation'}, {'id': 35, '...  \n1  [{'id': 12, 'name': 'Adventure'}, {'id': 14, '...  \n2  [{'id': 10749, 'name': 'Romance'}, {'id': 35, ...  \n3  [{'id': 35, 'name': 'Comedy'}, {'id': 18, 'nam...  \n4                     [{'id': 35, 'name': 'Comedy'}]  ",
      "text/html": "<div>\n<style scoped>\n    .dataframe tbody tr th:only-of-type {\n        vertical-align: middle;\n    }\n\n    .dataframe tbody tr th {\n        vertical-align: top;\n    }\n\n    .dataframe thead th {\n        text-align: right;\n    }\n</style>\n<table border=\"1\" class=\"dataframe\">\n  <thead>\n    <tr style=\"text-align: right;\">\n      <th></th>\n      <th>movieId</th>\n      <th>original_title</th>\n      <th>original_language</th>\n      <th>genres</th>\n    </tr>\n  </thead>\n  <tbody>\n    <tr>\n      <th>0</th>\n      <td>862</td>\n      <td>Toy Story</td>\n      <td>en</td>\n      <td>[{'id': 16, 'name': 'Animation'}, {'id': 35, '...</td>\n    </tr>\n    <tr>\n      <th>1</th>\n      <td>8844</td>\n      <td>Jumanji</td>\n      <td>en</td>\n      <td>[{'id': 12, 'name': 'Adventure'}, {'id': 14, '...</td>\n    </tr>\n    <tr>\n      <th>2</th>\n      <td>15602</td>\n      <td>Grumpier Old Men</td>\n      <td>en</td>\n      <td>[{'id': 10749, 'name': 'Romance'}, {'id': 35, ...</td>\n    </tr>\n    <tr>\n      <th>3</th>\n      <td>31357</td>\n      <td>Waiting to Exhale</td>\n      <td>en</td>\n      <td>[{'id': 35, 'name': 'Comedy'}, {'id': 18, 'nam...</td>\n    </tr>\n    <tr>\n      <th>4</th>\n      <td>11862</td>\n      <td>Father of the Bride Part II</td>\n      <td>en</td>\n      <td>[{'id': 35, 'name': 'Comedy'}]</td>\n    </tr>\n  </tbody>\n</table>\n</div>"
     },
     "metadata": {},
     "execution_count": 3
    }
   ],
   "source": [
    "meta = meta[['id', 'original_title', 'original_language', 'genres']]\n",
    "meta = meta.rename(columns={'id':'movieId'})\n",
    "meta = meta[meta['original_language'] == 'en']\n",
    "meta.head()"
   ]
  },
  {
   "cell_type": "code",
   "execution_count": 4,
   "metadata": {},
   "outputs": [
    {
     "output_type": "execute_result",
     "data": {
      "text/plain": "   userId  movieId  rating\n0       1       31     2.5\n1       1     1029     3.0\n2       1     1061     3.0\n3       1     1129     2.0\n4       1     1172     4.0",
      "text/html": "<div>\n<style scoped>\n    .dataframe tbody tr th:only-of-type {\n        vertical-align: middle;\n    }\n\n    .dataframe tbody tr th {\n        vertical-align: top;\n    }\n\n    .dataframe thead th {\n        text-align: right;\n    }\n</style>\n<table border=\"1\" class=\"dataframe\">\n  <thead>\n    <tr style=\"text-align: right;\">\n      <th></th>\n      <th>userId</th>\n      <th>movieId</th>\n      <th>rating</th>\n    </tr>\n  </thead>\n  <tbody>\n    <tr>\n      <th>0</th>\n      <td>1</td>\n      <td>31</td>\n      <td>2.5</td>\n    </tr>\n    <tr>\n      <th>1</th>\n      <td>1</td>\n      <td>1029</td>\n      <td>3.0</td>\n    </tr>\n    <tr>\n      <th>2</th>\n      <td>1</td>\n      <td>1061</td>\n      <td>3.0</td>\n    </tr>\n    <tr>\n      <th>3</th>\n      <td>1</td>\n      <td>1129</td>\n      <td>2.0</td>\n    </tr>\n    <tr>\n      <th>4</th>\n      <td>1</td>\n      <td>1172</td>\n      <td>4.0</td>\n    </tr>\n  </tbody>\n</table>\n</div>"
     },
     "metadata": {},
     "execution_count": 4
    }
   ],
   "source": [
    "ratings = pd.read_csv('the-movies-dataset/ratings_small.csv')\n",
    "ratings = ratings[['userId', 'movieId', 'rating']]\n",
    "ratings.head()"
   ]
  },
  {
   "cell_type": "code",
   "execution_count": 5,
   "metadata": {},
   "outputs": [
    {
     "output_type": "execute_result",
     "data": {
      "text/plain": "              userId        movieId         rating\ncount  100004.000000  100004.000000  100004.000000\nmean      347.011310   12548.664363       3.543608\nstd       195.163838   26369.198969       1.058064\nmin         1.000000       1.000000       0.500000\n25%       182.000000    1028.000000       3.000000\n50%       367.000000    2406.500000       4.000000\n75%       520.000000    5418.000000       4.000000\nmax       671.000000  163949.000000       5.000000",
      "text/html": "<div>\n<style scoped>\n    .dataframe tbody tr th:only-of-type {\n        vertical-align: middle;\n    }\n\n    .dataframe tbody tr th {\n        vertical-align: top;\n    }\n\n    .dataframe thead th {\n        text-align: right;\n    }\n</style>\n<table border=\"1\" class=\"dataframe\">\n  <thead>\n    <tr style=\"text-align: right;\">\n      <th></th>\n      <th>userId</th>\n      <th>movieId</th>\n      <th>rating</th>\n    </tr>\n  </thead>\n  <tbody>\n    <tr>\n      <th>count</th>\n      <td>100004.000000</td>\n      <td>100004.000000</td>\n      <td>100004.000000</td>\n    </tr>\n    <tr>\n      <th>mean</th>\n      <td>347.011310</td>\n      <td>12548.664363</td>\n      <td>3.543608</td>\n    </tr>\n    <tr>\n      <th>std</th>\n      <td>195.163838</td>\n      <td>26369.198969</td>\n      <td>1.058064</td>\n    </tr>\n    <tr>\n      <th>min</th>\n      <td>1.000000</td>\n      <td>1.000000</td>\n      <td>0.500000</td>\n    </tr>\n    <tr>\n      <th>25%</th>\n      <td>182.000000</td>\n      <td>1028.000000</td>\n      <td>3.000000</td>\n    </tr>\n    <tr>\n      <th>50%</th>\n      <td>367.000000</td>\n      <td>2406.500000</td>\n      <td>4.000000</td>\n    </tr>\n    <tr>\n      <th>75%</th>\n      <td>520.000000</td>\n      <td>5418.000000</td>\n      <td>4.000000</td>\n    </tr>\n    <tr>\n      <th>max</th>\n      <td>671.000000</td>\n      <td>163949.000000</td>\n      <td>5.000000</td>\n    </tr>\n  </tbody>\n</table>\n</div>"
     },
     "metadata": {},
     "execution_count": 5
    }
   ],
   "source": [
    "ratings.describe()"
   ]
  },
  {
   "cell_type": "code",
   "execution_count": 6,
   "metadata": {},
   "outputs": [],
   "source": [
    "meta.movieId = pd.to_numeric(meta.movieId, errors='coerce')\n",
    "ratings.movieId = pd.to_numeric(ratings.movieId, errors='coerce')"
   ]
  },
  {
   "cell_type": "code",
   "execution_count": 7,
   "metadata": {},
   "outputs": [
    {
     "output_type": "execute_result",
     "data": {
      "text/plain": "   movieId               original_title original_language  \\\n0      862                    Toy Story                en   \n1     8844                      Jumanji                en   \n2    15602             Grumpier Old Men                en   \n3    31357            Waiting to Exhale                en   \n4    11862  Father of the Bride Part II                en   \n\n                         genres  \n0   [Animation, Comedy, Family]  \n1  [Adventure, Fantasy, Family]  \n2             [Romance, Comedy]  \n3      [Comedy, Drama, Romance]  \n4                      [Comedy]  ",
      "text/html": "<div>\n<style scoped>\n    .dataframe tbody tr th:only-of-type {\n        vertical-align: middle;\n    }\n\n    .dataframe tbody tr th {\n        vertical-align: top;\n    }\n\n    .dataframe thead th {\n        text-align: right;\n    }\n</style>\n<table border=\"1\" class=\"dataframe\">\n  <thead>\n    <tr style=\"text-align: right;\">\n      <th></th>\n      <th>movieId</th>\n      <th>original_title</th>\n      <th>original_language</th>\n      <th>genres</th>\n    </tr>\n  </thead>\n  <tbody>\n    <tr>\n      <th>0</th>\n      <td>862</td>\n      <td>Toy Story</td>\n      <td>en</td>\n      <td>[Animation, Comedy, Family]</td>\n    </tr>\n    <tr>\n      <th>1</th>\n      <td>8844</td>\n      <td>Jumanji</td>\n      <td>en</td>\n      <td>[Adventure, Fantasy, Family]</td>\n    </tr>\n    <tr>\n      <th>2</th>\n      <td>15602</td>\n      <td>Grumpier Old Men</td>\n      <td>en</td>\n      <td>[Romance, Comedy]</td>\n    </tr>\n    <tr>\n      <th>3</th>\n      <td>31357</td>\n      <td>Waiting to Exhale</td>\n      <td>en</td>\n      <td>[Comedy, Drama, Romance]</td>\n    </tr>\n    <tr>\n      <th>4</th>\n      <td>11862</td>\n      <td>Father of the Bride Part II</td>\n      <td>en</td>\n      <td>[Comedy]</td>\n    </tr>\n  </tbody>\n</table>\n</div>"
     },
     "metadata": {},
     "execution_count": 7
    }
   ],
   "source": [
    "def parse_genres(genres_str):\n",
    "    genres = json.loads(genres_str.replace('\\'', '\"'))\n",
    "    \n",
    "    genres_list = []\n",
    "    for g in genres:\n",
    "        genres_list.append(g['name'])\n",
    "\n",
    "    return genres_list\n",
    "\n",
    "meta['genres'] = meta['genres'].apply(parse_genres)\n",
    "\n",
    "meta.head()"
   ]
  },
  {
   "cell_type": "code",
   "execution_count": 8,
   "metadata": {},
   "outputs": [
    {
     "output_type": "execute_result",
     "data": {
      "text/plain": "   userId  movieId  rating original_title original_language   genres\n0       1     1371     2.5      Rocky III                en  [Drama]\n1       4     1371     4.0      Rocky III                en  [Drama]\n2       7     1371     3.0      Rocky III                en  [Drama]\n3      19     1371     4.0      Rocky III                en  [Drama]\n4      21     1371     3.0      Rocky III                en  [Drama]",
      "text/html": "<div>\n<style scoped>\n    .dataframe tbody tr th:only-of-type {\n        vertical-align: middle;\n    }\n\n    .dataframe tbody tr th {\n        vertical-align: top;\n    }\n\n    .dataframe thead th {\n        text-align: right;\n    }\n</style>\n<table border=\"1\" class=\"dataframe\">\n  <thead>\n    <tr style=\"text-align: right;\">\n      <th></th>\n      <th>userId</th>\n      <th>movieId</th>\n      <th>rating</th>\n      <th>original_title</th>\n      <th>original_language</th>\n      <th>genres</th>\n    </tr>\n  </thead>\n  <tbody>\n    <tr>\n      <th>0</th>\n      <td>1</td>\n      <td>1371</td>\n      <td>2.5</td>\n      <td>Rocky III</td>\n      <td>en</td>\n      <td>[Drama]</td>\n    </tr>\n    <tr>\n      <th>1</th>\n      <td>4</td>\n      <td>1371</td>\n      <td>4.0</td>\n      <td>Rocky III</td>\n      <td>en</td>\n      <td>[Drama]</td>\n    </tr>\n    <tr>\n      <th>2</th>\n      <td>7</td>\n      <td>1371</td>\n      <td>3.0</td>\n      <td>Rocky III</td>\n      <td>en</td>\n      <td>[Drama]</td>\n    </tr>\n    <tr>\n      <th>3</th>\n      <td>19</td>\n      <td>1371</td>\n      <td>4.0</td>\n      <td>Rocky III</td>\n      <td>en</td>\n      <td>[Drama]</td>\n    </tr>\n    <tr>\n      <th>4</th>\n      <td>21</td>\n      <td>1371</td>\n      <td>3.0</td>\n      <td>Rocky III</td>\n      <td>en</td>\n      <td>[Drama]</td>\n    </tr>\n  </tbody>\n</table>\n</div>"
     },
     "metadata": {},
     "execution_count": 8
    }
   ],
   "source": [
    "# 영화 정보와 추천 점수를 연결\n",
    "data = pd.merge(ratings, meta, on='movieId', how='inner')\n",
    "\n",
    "data.head()"
   ]
  },
  {
   "cell_type": "code",
   "execution_count": 9,
   "metadata": {},
   "outputs": [
    {
     "output_type": "execute_result",
     "data": {
      "text/plain": "original_title  !Women Art Revolution  'Gator Bait  \\\nuserId                                               \n1                                 NaN          NaN   \n2                                 NaN          NaN   \n3                                 NaN          NaN   \n4                                 NaN          NaN   \n5                                 NaN          NaN   \n6                                 NaN          NaN   \n7                                 NaN          NaN   \n8                                 NaN          NaN   \n9                                 NaN          NaN   \n10                                NaN          NaN   \n11                                NaN          NaN   \n12                                NaN          NaN   \n13                                NaN          NaN   \n14                                NaN          NaN   \n15                                NaN          0.5   \n16                                NaN          NaN   \n17                                NaN          NaN   \n18                                NaN          NaN   \n19                                NaN          NaN   \n20                                NaN          NaN   \n\noriginal_title  'Twas the Night Before Christmas  10 Items or Less  \\\nuserId                                                               \n1                                            NaN               NaN   \n2                                            NaN               NaN   \n3                                            NaN               NaN   \n4                                            NaN               NaN   \n5                                            NaN               NaN   \n6                                            NaN               NaN   \n7                                            NaN               NaN   \n8                                            NaN               NaN   \n9                                            NaN               NaN   \n10                                           NaN               NaN   \n11                                           NaN               NaN   \n12                                           NaN               NaN   \n13                                           NaN               NaN   \n14                                           NaN               NaN   \n15                                           NaN               3.0   \n16                                           NaN               NaN   \n17                                           NaN               NaN   \n18                                           NaN               NaN   \n19                                           NaN               NaN   \n20                                           NaN               NaN   \n\noriginal_title  10 Things I Hate About You  10,000 BC  \\\nuserId                                                  \n1                                      NaN        NaN   \n2                                      NaN        NaN   \n3                                      NaN        NaN   \n4                                      NaN        NaN   \n5                                      NaN        NaN   \n6                                      NaN        NaN   \n7                                      NaN        NaN   \n8                                      NaN        NaN   \n9                                      NaN        NaN   \n10                                     NaN        NaN   \n11                                     NaN        NaN   \n12                                     NaN        NaN   \n13                                     NaN        NaN   \n14                                     NaN        NaN   \n15                                     NaN        NaN   \n16                                     NaN        NaN   \n17                                     NaN        NaN   \n18                                     NaN        NaN   \n19                                     NaN        NaN   \n20                                     NaN        NaN   \n\noriginal_title  11'09''01 - September 11  12 + 1  12 Angry Men  1408  ...  \\\nuserId                                                                ...   \n1                                    NaN     NaN           NaN   NaN  ...   \n2                                    NaN     NaN           NaN   NaN  ...   \n3                                    NaN     NaN           NaN   NaN  ...   \n4                                    NaN     NaN           NaN   NaN  ...   \n5                                    NaN     NaN           NaN   NaN  ...   \n6                                    NaN     NaN           NaN   NaN  ...   \n7                                    NaN     NaN           NaN   NaN  ...   \n8                                    NaN     NaN           NaN   NaN  ...   \n9                                    NaN     NaN           NaN   NaN  ...   \n10                                   NaN     NaN           NaN   NaN  ...   \n11                                   NaN     NaN           NaN   NaN  ...   \n12                                   NaN     NaN           NaN   NaN  ...   \n13                                   NaN     NaN           NaN   NaN  ...   \n14                                   NaN     NaN           NaN   NaN  ...   \n15                                   NaN     1.0           NaN   NaN  ...   \n16                                   NaN     NaN           NaN   NaN  ...   \n17                                   NaN     NaN           NaN   NaN  ...   \n18                                   NaN     NaN           NaN   NaN  ...   \n19                                   NaN     NaN           NaN   NaN  ...   \n20                                   NaN     NaN           NaN   NaN  ...   \n\noriginal_title  Young and Innocent  Zaat  Zabriskie Point  Zapped Again!  \\\nuserId                                                                     \n1                              NaN   NaN              NaN            NaN   \n2                              NaN   NaN              NaN            NaN   \n3                              3.5   NaN              NaN            NaN   \n4                              NaN   NaN              NaN            NaN   \n5                              3.5   NaN              NaN            NaN   \n6                              NaN   NaN              NaN            NaN   \n7                              NaN   NaN              NaN            NaN   \n8                              4.5   NaN              NaN            NaN   \n9                              4.0   NaN              NaN            NaN   \n10                             NaN   NaN              NaN            NaN   \n11                             3.0   NaN              NaN            NaN   \n12                             NaN   NaN              NaN            NaN   \n13                             3.0   NaN              NaN            NaN   \n14                             NaN   NaN              NaN            NaN   \n15                             1.0   NaN              NaN            NaN   \n16                             NaN   NaN              NaN            NaN   \n17                             4.5   NaN              NaN            NaN   \n18                             NaN   NaN              NaN            NaN   \n19                             NaN   NaN              NaN            NaN   \n20                             3.5   5.0              NaN            NaN   \n\noriginal_title  Zardoz  Zodiac  eXistenZ  xXx  ¡Three Amigos!  \\\nuserId                                                          \n1                  NaN     NaN       NaN  NaN             NaN   \n2                  NaN     NaN       NaN  NaN             NaN   \n3                  NaN     NaN       NaN  NaN             NaN   \n4                  NaN     NaN       NaN  NaN             NaN   \n5                  NaN     NaN       NaN  NaN             NaN   \n6                  NaN     NaN       NaN  NaN             NaN   \n7                  NaN     NaN       NaN  NaN             NaN   \n8                  NaN     NaN       NaN  NaN             NaN   \n9                  NaN     NaN       NaN  NaN             NaN   \n10                 NaN     NaN       NaN  NaN             NaN   \n11                 NaN     NaN       NaN  NaN             NaN   \n12                 NaN     NaN       NaN  NaN             NaN   \n13                 NaN     NaN       NaN  NaN             NaN   \n14                 NaN     NaN       NaN  NaN             NaN   \n15                 NaN     NaN       NaN  3.5             NaN   \n16                 NaN     NaN       NaN  NaN             NaN   \n17                 NaN     NaN       NaN  NaN             NaN   \n18                 NaN     NaN       NaN  NaN             NaN   \n19                 NaN     NaN       NaN  NaN             NaN   \n20                 NaN     NaN       NaN  NaN             NaN   \n\noriginal_title  Мой сводный брат Франкенштейн  \nuserId                                         \n1                                         NaN  \n2                                         NaN  \n3                                         NaN  \n4                                         NaN  \n5                                         NaN  \n6                                         NaN  \n7                                         NaN  \n8                                         NaN  \n9                                         NaN  \n10                                        NaN  \n11                                        NaN  \n12                                        NaN  \n13                                        NaN  \n14                                        NaN  \n15                                        NaN  \n16                                        NaN  \n17                                        NaN  \n18                                        NaN  \n19                                        NaN  \n20                                        NaN  \n\n[20 rows x 2034 columns]",
      "text/html": "<div>\n<style scoped>\n    .dataframe tbody tr th:only-of-type {\n        vertical-align: middle;\n    }\n\n    .dataframe tbody tr th {\n        vertical-align: top;\n    }\n\n    .dataframe thead th {\n        text-align: right;\n    }\n</style>\n<table border=\"1\" class=\"dataframe\">\n  <thead>\n    <tr style=\"text-align: right;\">\n      <th>original_title</th>\n      <th>!Women Art Revolution</th>\n      <th>'Gator Bait</th>\n      <th>'Twas the Night Before Christmas</th>\n      <th>10 Items or Less</th>\n      <th>10 Things I Hate About You</th>\n      <th>10,000 BC</th>\n      <th>11'09''01 - September 11</th>\n      <th>12 + 1</th>\n      <th>12 Angry Men</th>\n      <th>1408</th>\n      <th>...</th>\n      <th>Young and Innocent</th>\n      <th>Zaat</th>\n      <th>Zabriskie Point</th>\n      <th>Zapped Again!</th>\n      <th>Zardoz</th>\n      <th>Zodiac</th>\n      <th>eXistenZ</th>\n      <th>xXx</th>\n      <th>¡Three Amigos!</th>\n      <th>Мой сводный брат Франкенштейн</th>\n    </tr>\n    <tr>\n      <th>userId</th>\n      <th></th>\n      <th></th>\n      <th></th>\n      <th></th>\n      <th></th>\n      <th></th>\n      <th></th>\n      <th></th>\n      <th></th>\n      <th></th>\n      <th></th>\n      <th></th>\n      <th></th>\n      <th></th>\n      <th></th>\n      <th></th>\n      <th></th>\n      <th></th>\n      <th></th>\n      <th></th>\n      <th></th>\n    </tr>\n  </thead>\n  <tbody>\n    <tr>\n      <th>1</th>\n      <td>NaN</td>\n      <td>NaN</td>\n      <td>NaN</td>\n      <td>NaN</td>\n      <td>NaN</td>\n      <td>NaN</td>\n      <td>NaN</td>\n      <td>NaN</td>\n      <td>NaN</td>\n      <td>NaN</td>\n      <td>...</td>\n      <td>NaN</td>\n      <td>NaN</td>\n      <td>NaN</td>\n      <td>NaN</td>\n      <td>NaN</td>\n      <td>NaN</td>\n      <td>NaN</td>\n      <td>NaN</td>\n      <td>NaN</td>\n      <td>NaN</td>\n    </tr>\n    <tr>\n      <th>2</th>\n      <td>NaN</td>\n      <td>NaN</td>\n      <td>NaN</td>\n      <td>NaN</td>\n      <td>NaN</td>\n      <td>NaN</td>\n      <td>NaN</td>\n      <td>NaN</td>\n      <td>NaN</td>\n      <td>NaN</td>\n      <td>...</td>\n      <td>NaN</td>\n      <td>NaN</td>\n      <td>NaN</td>\n      <td>NaN</td>\n      <td>NaN</td>\n      <td>NaN</td>\n      <td>NaN</td>\n      <td>NaN</td>\n      <td>NaN</td>\n      <td>NaN</td>\n    </tr>\n    <tr>\n      <th>3</th>\n      <td>NaN</td>\n      <td>NaN</td>\n      <td>NaN</td>\n      <td>NaN</td>\n      <td>NaN</td>\n      <td>NaN</td>\n      <td>NaN</td>\n      <td>NaN</td>\n      <td>NaN</td>\n      <td>NaN</td>\n      <td>...</td>\n      <td>3.5</td>\n      <td>NaN</td>\n      <td>NaN</td>\n      <td>NaN</td>\n      <td>NaN</td>\n      <td>NaN</td>\n      <td>NaN</td>\n      <td>NaN</td>\n      <td>NaN</td>\n      <td>NaN</td>\n    </tr>\n    <tr>\n      <th>4</th>\n      <td>NaN</td>\n      <td>NaN</td>\n      <td>NaN</td>\n      <td>NaN</td>\n      <td>NaN</td>\n      <td>NaN</td>\n      <td>NaN</td>\n      <td>NaN</td>\n      <td>NaN</td>\n      <td>NaN</td>\n      <td>...</td>\n      <td>NaN</td>\n      <td>NaN</td>\n      <td>NaN</td>\n      <td>NaN</td>\n      <td>NaN</td>\n      <td>NaN</td>\n      <td>NaN</td>\n      <td>NaN</td>\n      <td>NaN</td>\n      <td>NaN</td>\n    </tr>\n    <tr>\n      <th>5</th>\n      <td>NaN</td>\n      <td>NaN</td>\n      <td>NaN</td>\n      <td>NaN</td>\n      <td>NaN</td>\n      <td>NaN</td>\n      <td>NaN</td>\n      <td>NaN</td>\n      <td>NaN</td>\n      <td>NaN</td>\n      <td>...</td>\n      <td>3.5</td>\n      <td>NaN</td>\n      <td>NaN</td>\n      <td>NaN</td>\n      <td>NaN</td>\n      <td>NaN</td>\n      <td>NaN</td>\n      <td>NaN</td>\n      <td>NaN</td>\n      <td>NaN</td>\n    </tr>\n    <tr>\n      <th>6</th>\n      <td>NaN</td>\n      <td>NaN</td>\n      <td>NaN</td>\n      <td>NaN</td>\n      <td>NaN</td>\n      <td>NaN</td>\n      <td>NaN</td>\n      <td>NaN</td>\n      <td>NaN</td>\n      <td>NaN</td>\n      <td>...</td>\n      <td>NaN</td>\n      <td>NaN</td>\n      <td>NaN</td>\n      <td>NaN</td>\n      <td>NaN</td>\n      <td>NaN</td>\n      <td>NaN</td>\n      <td>NaN</td>\n      <td>NaN</td>\n      <td>NaN</td>\n    </tr>\n    <tr>\n      <th>7</th>\n      <td>NaN</td>\n      <td>NaN</td>\n      <td>NaN</td>\n      <td>NaN</td>\n      <td>NaN</td>\n      <td>NaN</td>\n      <td>NaN</td>\n      <td>NaN</td>\n      <td>NaN</td>\n      <td>NaN</td>\n      <td>...</td>\n      <td>NaN</td>\n      <td>NaN</td>\n      <td>NaN</td>\n      <td>NaN</td>\n      <td>NaN</td>\n      <td>NaN</td>\n      <td>NaN</td>\n      <td>NaN</td>\n      <td>NaN</td>\n      <td>NaN</td>\n    </tr>\n    <tr>\n      <th>8</th>\n      <td>NaN</td>\n      <td>NaN</td>\n      <td>NaN</td>\n      <td>NaN</td>\n      <td>NaN</td>\n      <td>NaN</td>\n      <td>NaN</td>\n      <td>NaN</td>\n      <td>NaN</td>\n      <td>NaN</td>\n      <td>...</td>\n      <td>4.5</td>\n      <td>NaN</td>\n      <td>NaN</td>\n      <td>NaN</td>\n      <td>NaN</td>\n      <td>NaN</td>\n      <td>NaN</td>\n      <td>NaN</td>\n      <td>NaN</td>\n      <td>NaN</td>\n    </tr>\n    <tr>\n      <th>9</th>\n      <td>NaN</td>\n      <td>NaN</td>\n      <td>NaN</td>\n      <td>NaN</td>\n      <td>NaN</td>\n      <td>NaN</td>\n      <td>NaN</td>\n      <td>NaN</td>\n      <td>NaN</td>\n      <td>NaN</td>\n      <td>...</td>\n      <td>4.0</td>\n      <td>NaN</td>\n      <td>NaN</td>\n      <td>NaN</td>\n      <td>NaN</td>\n      <td>NaN</td>\n      <td>NaN</td>\n      <td>NaN</td>\n      <td>NaN</td>\n      <td>NaN</td>\n    </tr>\n    <tr>\n      <th>10</th>\n      <td>NaN</td>\n      <td>NaN</td>\n      <td>NaN</td>\n      <td>NaN</td>\n      <td>NaN</td>\n      <td>NaN</td>\n      <td>NaN</td>\n      <td>NaN</td>\n      <td>NaN</td>\n      <td>NaN</td>\n      <td>...</td>\n      <td>NaN</td>\n      <td>NaN</td>\n      <td>NaN</td>\n      <td>NaN</td>\n      <td>NaN</td>\n      <td>NaN</td>\n      <td>NaN</td>\n      <td>NaN</td>\n      <td>NaN</td>\n      <td>NaN</td>\n    </tr>\n    <tr>\n      <th>11</th>\n      <td>NaN</td>\n      <td>NaN</td>\n      <td>NaN</td>\n      <td>NaN</td>\n      <td>NaN</td>\n      <td>NaN</td>\n      <td>NaN</td>\n      <td>NaN</td>\n      <td>NaN</td>\n      <td>NaN</td>\n      <td>...</td>\n      <td>3.0</td>\n      <td>NaN</td>\n      <td>NaN</td>\n      <td>NaN</td>\n      <td>NaN</td>\n      <td>NaN</td>\n      <td>NaN</td>\n      <td>NaN</td>\n      <td>NaN</td>\n      <td>NaN</td>\n    </tr>\n    <tr>\n      <th>12</th>\n      <td>NaN</td>\n      <td>NaN</td>\n      <td>NaN</td>\n      <td>NaN</td>\n      <td>NaN</td>\n      <td>NaN</td>\n      <td>NaN</td>\n      <td>NaN</td>\n      <td>NaN</td>\n      <td>NaN</td>\n      <td>...</td>\n      <td>NaN</td>\n      <td>NaN</td>\n      <td>NaN</td>\n      <td>NaN</td>\n      <td>NaN</td>\n      <td>NaN</td>\n      <td>NaN</td>\n      <td>NaN</td>\n      <td>NaN</td>\n      <td>NaN</td>\n    </tr>\n    <tr>\n      <th>13</th>\n      <td>NaN</td>\n      <td>NaN</td>\n      <td>NaN</td>\n      <td>NaN</td>\n      <td>NaN</td>\n      <td>NaN</td>\n      <td>NaN</td>\n      <td>NaN</td>\n      <td>NaN</td>\n      <td>NaN</td>\n      <td>...</td>\n      <td>3.0</td>\n      <td>NaN</td>\n      <td>NaN</td>\n      <td>NaN</td>\n      <td>NaN</td>\n      <td>NaN</td>\n      <td>NaN</td>\n      <td>NaN</td>\n      <td>NaN</td>\n      <td>NaN</td>\n    </tr>\n    <tr>\n      <th>14</th>\n      <td>NaN</td>\n      <td>NaN</td>\n      <td>NaN</td>\n      <td>NaN</td>\n      <td>NaN</td>\n      <td>NaN</td>\n      <td>NaN</td>\n      <td>NaN</td>\n      <td>NaN</td>\n      <td>NaN</td>\n      <td>...</td>\n      <td>NaN</td>\n      <td>NaN</td>\n      <td>NaN</td>\n      <td>NaN</td>\n      <td>NaN</td>\n      <td>NaN</td>\n      <td>NaN</td>\n      <td>NaN</td>\n      <td>NaN</td>\n      <td>NaN</td>\n    </tr>\n    <tr>\n      <th>15</th>\n      <td>NaN</td>\n      <td>0.5</td>\n      <td>NaN</td>\n      <td>3.0</td>\n      <td>NaN</td>\n      <td>NaN</td>\n      <td>NaN</td>\n      <td>1.0</td>\n      <td>NaN</td>\n      <td>NaN</td>\n      <td>...</td>\n      <td>1.0</td>\n      <td>NaN</td>\n      <td>NaN</td>\n      <td>NaN</td>\n      <td>NaN</td>\n      <td>NaN</td>\n      <td>NaN</td>\n      <td>3.5</td>\n      <td>NaN</td>\n      <td>NaN</td>\n    </tr>\n    <tr>\n      <th>16</th>\n      <td>NaN</td>\n      <td>NaN</td>\n      <td>NaN</td>\n      <td>NaN</td>\n      <td>NaN</td>\n      <td>NaN</td>\n      <td>NaN</td>\n      <td>NaN</td>\n      <td>NaN</td>\n      <td>NaN</td>\n      <td>...</td>\n      <td>NaN</td>\n      <td>NaN</td>\n      <td>NaN</td>\n      <td>NaN</td>\n      <td>NaN</td>\n      <td>NaN</td>\n      <td>NaN</td>\n      <td>NaN</td>\n      <td>NaN</td>\n      <td>NaN</td>\n    </tr>\n    <tr>\n      <th>17</th>\n      <td>NaN</td>\n      <td>NaN</td>\n      <td>NaN</td>\n      <td>NaN</td>\n      <td>NaN</td>\n      <td>NaN</td>\n      <td>NaN</td>\n      <td>NaN</td>\n      <td>NaN</td>\n      <td>NaN</td>\n      <td>...</td>\n      <td>4.5</td>\n      <td>NaN</td>\n      <td>NaN</td>\n      <td>NaN</td>\n      <td>NaN</td>\n      <td>NaN</td>\n      <td>NaN</td>\n      <td>NaN</td>\n      <td>NaN</td>\n      <td>NaN</td>\n    </tr>\n    <tr>\n      <th>18</th>\n      <td>NaN</td>\n      <td>NaN</td>\n      <td>NaN</td>\n      <td>NaN</td>\n      <td>NaN</td>\n      <td>NaN</td>\n      <td>NaN</td>\n      <td>NaN</td>\n      <td>NaN</td>\n      <td>NaN</td>\n      <td>...</td>\n      <td>NaN</td>\n      <td>NaN</td>\n      <td>NaN</td>\n      <td>NaN</td>\n      <td>NaN</td>\n      <td>NaN</td>\n      <td>NaN</td>\n      <td>NaN</td>\n      <td>NaN</td>\n      <td>NaN</td>\n    </tr>\n    <tr>\n      <th>19</th>\n      <td>NaN</td>\n      <td>NaN</td>\n      <td>NaN</td>\n      <td>NaN</td>\n      <td>NaN</td>\n      <td>NaN</td>\n      <td>NaN</td>\n      <td>NaN</td>\n      <td>NaN</td>\n      <td>NaN</td>\n      <td>...</td>\n      <td>NaN</td>\n      <td>NaN</td>\n      <td>NaN</td>\n      <td>NaN</td>\n      <td>NaN</td>\n      <td>NaN</td>\n      <td>NaN</td>\n      <td>NaN</td>\n      <td>NaN</td>\n      <td>NaN</td>\n    </tr>\n    <tr>\n      <th>20</th>\n      <td>NaN</td>\n      <td>NaN</td>\n      <td>NaN</td>\n      <td>NaN</td>\n      <td>NaN</td>\n      <td>NaN</td>\n      <td>NaN</td>\n      <td>NaN</td>\n      <td>NaN</td>\n      <td>NaN</td>\n      <td>...</td>\n      <td>3.5</td>\n      <td>5.0</td>\n      <td>NaN</td>\n      <td>NaN</td>\n      <td>NaN</td>\n      <td>NaN</td>\n      <td>NaN</td>\n      <td>NaN</td>\n      <td>NaN</td>\n      <td>NaN</td>\n    </tr>\n  </tbody>\n</table>\n<p>20 rows × 2034 columns</p>\n</div>"
     },
     "metadata": {},
     "execution_count": 9
    }
   ],
   "source": [
    "# 상관관계 분석을 위해 사용자, 영화별 추천점수 테이블 생성\n",
    "matrix = data.pivot_table(index='userId', columns='original_title', values='rating')\n",
    "matrix.head(20)"
   ]
  },
  {
   "cell_type": "markdown",
   "metadata": {},
   "source": [
    "## Correlation Analytics(상관분석)\n",
    "<p>Correlation Analytics(상관분석): 두 변수간의 관련성을 분석하는 통계 기법</p>\n",
    "<p>피어슨 상관 계수(Pearson correlation coefficient 또는 Pearson's r)는 두 변수간의 관련성을 구하기 위해 보편적으로 이용된다. </p>\n",
    "<p>r = (X와 Y가 함께 변하는 정도)/(X와 Y가 각자 변하는 정도)</p>\n",
    "<p>r 값은 X 와 Y 가 완전히 동일하면 +1, 전혀 다르면 0, 반대방향으로 완전히 동일 하면 –1 을 가진다. </p>\n",
    "\n",
    "<li>r이 -1.0과 -0.7 사이이면, 강한 음적 선형관계,</li>\n",
    "<li>r이 -0.7과 -0.3 사이이면, 뚜렷한 음적 선형관계,</li>\n",
    "<li>r이 -0.3과 -0.1 사이이면, 약한 음적 선형관계,</li>\n",
    "<li>r이 -0.1과 +0.1 사이이면, 거의 무시될 수 있는 선형관계,</li>\n",
    "<li>r이 +0.1과 +0.3 사이이면, 약한 양적 선형관계,</li>\n",
    "<li>r이 +0.3과 +0.7 사이이면, 뚜렷한 양적 선형관계,</li>\n",
    "<li>r이 +0.7과 +1.0 사이이면, 강한 양적 선형관계</li>"
   ]
  },
  {
   "cell_type": "code",
   "execution_count": 10,
   "metadata": {},
   "outputs": [],
   "source": [
    "GENRE_WEIGHT = 0.1\n",
    "\n",
    "# 피어슨 상관 계수 계산\n",
    "def pearsonR(s1, s2):\n",
    "    s1_c = s1 - s1.mean()\n",
    "    s2_c = s2 - s2.mean()\n",
    "    return np.sum(s1_c * s2_c) / np.sqrt(np.sum(s1_c ** 2) * np.sum(s2_c ** 2))\n",
    "\n",
    "# 추천알고리즘\n",
    "def recommend(input_movie, matrix, n, similar_genre=True):\n",
    "    input_genres = meta[meta['original_title'] == input_movie]['genres'].iloc(0)[0]\n",
    "\n",
    "    result = []\n",
    "    for title in matrix.columns:\n",
    "        # 동일한 영화면 패스\n",
    "        if title == input_movie:  \n",
    "            continue\n",
    "\n",
    "        # rating comparison (피어슨 상관 계수 계산)\n",
    "        cor = pearsonR(matrix[input_movie], matrix[title])\n",
    "        \n",
    "        # genre comparison (장르 비교)\n",
    "        if similar_genre and len(input_genres) > 0:\n",
    "            temp_genres = meta[meta['original_title'] == title]['genres'].iloc(0)[0]\n",
    "\n",
    "            same_count = np.sum(np.isin(input_genres, temp_genres))\n",
    "            cor += (GENRE_WEIGHT * same_count)\n",
    "        \n",
    "        if np.isnan(cor):\n",
    "            continue\n",
    "        else:\n",
    "            result.append((title, '{:.2f}'.format(cor), temp_genres))\n",
    "            \n",
    "    result.sort(key=lambda r: r[1], reverse=True)\n",
    "\n",
    "    return result[:n]"
   ]
  },
  {
   "cell_type": "code",
   "execution_count": 11,
   "metadata": {},
   "outputs": [
    {
     "output_type": "execute_result",
     "data": {
      "text/plain": "                                          Title Correlation  \\\n0                                    Prom Night        0.87   \n1                                Wild Wild West        0.87   \n2                                  Blue Thunder        0.73   \n3                                         Topaz        0.68   \n4   Yamakasi - Les samouraïs des temps modernes        0.68   \n5                                   Best Seller        0.67   \n6       Midnight in the Garden of Good and Evil        0.67   \n7                                  Big Bad Mama        0.64   \n8                                  The Enforcer        0.63   \n9                                The River Wild        0.63   \n10                                     Sneakers        0.62   \n11                                     Godzilla        0.61   \n12                                  Bushwhacked        0.60   \n13                       Deadlier Than the Male        0.58   \n14                               In the Bedroom        0.58   \n15                               Population 436        0.58   \n16                                      Requiem        0.58   \n17                    The Man Who Knew Too Much        0.58   \n18                          A Kiss Before Dying        0.57   \n19                   Die Hard: With a Vengeance        0.57   \n\n                                                Genre  \n0                         [Horror, Mystery, Thriller]  \n1   [Action, Adventure, Comedy, Science Fiction, W...  \n2   [Science Fiction, Action, Thriller, Crime, Drama]  \n3                  [Action, Drama, Mystery, Thriller]  \n4                              [Action, Crime, Drama]  \n5                    [Action, Crime, Drama, Thriller]  \n6                   [Crime, Drama, Mystery, Thriller]  \n7                      [Action, Comedy, Crime, Drama]  \n8                           [Action, Crime, Thriller]  \n9                [Action, Adventure, Crime, Thriller]  \n10                             [Comedy, Crime, Drama]  \n11                [Science Fiction, Action, Thriller]  \n12         [Adventure, Action, Comedy, Crime, Family]  \n13                         [Action, Comedy, Thriller]  \n14                                  [Drama, Thriller]  \n15                 [Drama, Horror, Mystery, Thriller]  \n16                         [Action, Horror, Thriller]  \n17       [Adventure, Crime, Drama, Mystery, Thriller]  \n18         [Drama, Thriller, Crime, Mystery, Romance]  \n19                                 [Action, Thriller]  ",
      "text/html": "<div>\n<style scoped>\n    .dataframe tbody tr th:only-of-type {\n        vertical-align: middle;\n    }\n\n    .dataframe tbody tr th {\n        vertical-align: top;\n    }\n\n    .dataframe thead th {\n        text-align: right;\n    }\n</style>\n<table border=\"1\" class=\"dataframe\">\n  <thead>\n    <tr style=\"text-align: right;\">\n      <th></th>\n      <th>Title</th>\n      <th>Correlation</th>\n      <th>Genre</th>\n    </tr>\n  </thead>\n  <tbody>\n    <tr>\n      <th>0</th>\n      <td>Prom Night</td>\n      <td>0.87</td>\n      <td>[Horror, Mystery, Thriller]</td>\n    </tr>\n    <tr>\n      <th>1</th>\n      <td>Wild Wild West</td>\n      <td>0.87</td>\n      <td>[Action, Adventure, Comedy, Science Fiction, W...</td>\n    </tr>\n    <tr>\n      <th>2</th>\n      <td>Blue Thunder</td>\n      <td>0.73</td>\n      <td>[Science Fiction, Action, Thriller, Crime, Drama]</td>\n    </tr>\n    <tr>\n      <th>3</th>\n      <td>Topaz</td>\n      <td>0.68</td>\n      <td>[Action, Drama, Mystery, Thriller]</td>\n    </tr>\n    <tr>\n      <th>4</th>\n      <td>Yamakasi - Les samouraïs des temps modernes</td>\n      <td>0.68</td>\n      <td>[Action, Crime, Drama]</td>\n    </tr>\n    <tr>\n      <th>5</th>\n      <td>Best Seller</td>\n      <td>0.67</td>\n      <td>[Action, Crime, Drama, Thriller]</td>\n    </tr>\n    <tr>\n      <th>6</th>\n      <td>Midnight in the Garden of Good and Evil</td>\n      <td>0.67</td>\n      <td>[Crime, Drama, Mystery, Thriller]</td>\n    </tr>\n    <tr>\n      <th>7</th>\n      <td>Big Bad Mama</td>\n      <td>0.64</td>\n      <td>[Action, Comedy, Crime, Drama]</td>\n    </tr>\n    <tr>\n      <th>8</th>\n      <td>The Enforcer</td>\n      <td>0.63</td>\n      <td>[Action, Crime, Thriller]</td>\n    </tr>\n    <tr>\n      <th>9</th>\n      <td>The River Wild</td>\n      <td>0.63</td>\n      <td>[Action, Adventure, Crime, Thriller]</td>\n    </tr>\n    <tr>\n      <th>10</th>\n      <td>Sneakers</td>\n      <td>0.62</td>\n      <td>[Comedy, Crime, Drama]</td>\n    </tr>\n    <tr>\n      <th>11</th>\n      <td>Godzilla</td>\n      <td>0.61</td>\n      <td>[Science Fiction, Action, Thriller]</td>\n    </tr>\n    <tr>\n      <th>12</th>\n      <td>Bushwhacked</td>\n      <td>0.60</td>\n      <td>[Adventure, Action, Comedy, Crime, Family]</td>\n    </tr>\n    <tr>\n      <th>13</th>\n      <td>Deadlier Than the Male</td>\n      <td>0.58</td>\n      <td>[Action, Comedy, Thriller]</td>\n    </tr>\n    <tr>\n      <th>14</th>\n      <td>In the Bedroom</td>\n      <td>0.58</td>\n      <td>[Drama, Thriller]</td>\n    </tr>\n    <tr>\n      <th>15</th>\n      <td>Population 436</td>\n      <td>0.58</td>\n      <td>[Drama, Horror, Mystery, Thriller]</td>\n    </tr>\n    <tr>\n      <th>16</th>\n      <td>Requiem</td>\n      <td>0.58</td>\n      <td>[Action, Horror, Thriller]</td>\n    </tr>\n    <tr>\n      <th>17</th>\n      <td>The Man Who Knew Too Much</td>\n      <td>0.58</td>\n      <td>[Adventure, Crime, Drama, Mystery, Thriller]</td>\n    </tr>\n    <tr>\n      <th>18</th>\n      <td>A Kiss Before Dying</td>\n      <td>0.57</td>\n      <td>[Drama, Thriller, Crime, Mystery, Romance]</td>\n    </tr>\n    <tr>\n      <th>19</th>\n      <td>Die Hard: With a Vengeance</td>\n      <td>0.57</td>\n      <td>[Action, Thriller]</td>\n    </tr>\n  </tbody>\n</table>\n</div>"
     },
     "metadata": {},
     "execution_count": 11
    }
   ],
   "source": [
    "recommend_result = recommend('The Dark Knight', matrix, 20, similar_genre=True)\n",
    "\n",
    "pd.DataFrame(recommend_result, columns = ['Title', 'Correlation', 'Genre'])"
   ]
  },
  {
   "cell_type": "code",
   "execution_count": null,
   "metadata": {},
   "outputs": [],
   "source": []
  }
 ]
}