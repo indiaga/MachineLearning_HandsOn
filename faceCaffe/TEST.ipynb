{
 "cells": [
  {
   "cell_type": "code",
   "execution_count": 2,
   "metadata": {},
   "outputs": [
    {
     "output_type": "stream",
     "name": "stdout",
     "text": "[1]\n[1, 9]\n[1, 9, 25]\n[1, 9, 25, 49]\n[1, 9, 25, 49, 81]\n"
    }
   ],
   "source": [
    "n=[1,3,5,7,9]\n",
    "s=[]\n",
    "\n",
    "for i in n:\n",
    "    s.append(i**2)\n",
    "    print(s)"
   ]
  },
  {
   "cell_type": "code",
   "execution_count": 5,
   "metadata": {},
   "outputs": [
    {
     "output_type": "stream",
     "name": "stdout",
     "text": "[1, 9, 25, 49, 81]\n"
    }
   ],
   "source": [
    "n=[1,3,5,7,9]\n",
    "s=[i**2 for i in n]\n",
    "print(s)"
   ]
  },
  {
   "cell_type": "code",
   "execution_count": 7,
   "metadata": {},
   "outputs": [
    {
     "output_type": "stream",
     "name": "stdout",
     "text": "[25]\n[25, 49]\n[25, 49, 81]\n"
    }
   ],
   "source": [
    "n=[1,3,5,7,9]\n",
    "s=[]\n",
    "for i in n:\n",
    "    if i >= 5:\n",
    "        s.append(i**2)\n",
    "        print(s)"
   ]
  },
  {
   "cell_type": "code",
   "execution_count": 10,
   "metadata": {},
   "outputs": [
    {
     "output_type": "stream",
     "name": "stdout",
     "text": "[25, 49, 81]\n"
    }
   ],
   "source": [
    "n=[1,3,5,7,9]\n",
    "s=[i**2 for i in n if i>=5]\n",
    "print(s)"
   ]
  },
  {
   "cell_type": "code",
   "execution_count": 13,
   "metadata": {},
   "outputs": [
    {
     "output_type": "stream",
     "name": "stdout",
     "text": "통과\n"
    }
   ],
   "source": [
    "score = int(input(\"점수를 입력하시오:\"))\n",
    "if score > 60:\n",
    "    print('통과')\n",
    "else:\n",
    "    print('과락')"
   ]
  },
  {
   "cell_type": "code",
   "execution_count": 14,
   "metadata": {},
   "outputs": [
    {
     "output_type": "stream",
     "name": "stdout",
     "text": "0\n1\n2\n3\n4\n5\n6\n7\n8\n9\n"
    }
   ],
   "source": [
    "for i in range(0,10):\n",
    "    print(i)"
   ]
  },
  {
   "cell_type": "code",
   "execution_count": null,
   "metadata": {},
   "outputs": [],
   "source": []
  }
 ],
 "metadata": {
  "language_info": {
   "codemirror_mode": {
    "name": "ipython",
    "version": 3
   },
   "file_extension": ".py",
   "mimetype": "text/x-python",
   "name": "python",
   "nbconvert_exporter": "python",
   "pygments_lexer": "ipython3",
   "version": "3.7.7-final"
  },
  "orig_nbformat": 2,
  "kernelspec": {
   "name": "python37764bit4ae60c3c220843d5b933d6b3df42a3c6",
   "display_name": "Python 3.7.7 64-bit"
  }
 },
 "nbformat": 4,
 "nbformat_minor": 2
}